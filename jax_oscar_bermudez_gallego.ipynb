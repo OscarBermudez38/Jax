{
  "nbformat": 4,
  "nbformat_minor": 0,
  "metadata": {
    "colab": {
      "provenance": []
    },
    "kernelspec": {
      "name": "python3",
      "display_name": "Python 3"
    },
    "language_info": {
      "name": "python"
    }
  },
  "cells": [
    {
      "cell_type": "markdown",
      "source": [
        "Ejercicio realizado por Oscar Bermúdez Gallego"
      ],
      "metadata": {
        "id": "acFVo2Ls6HG0"
      }
    },
    {
      "cell_type": "markdown",
      "source": [
        "# Qué es JAX y cuáles son sus principales características\n",
        "JAX es una biblioteca de Python para la diferenciación automática y la computación de alto rendimiento. Sus principales características incluyen la diferenciación automática, la compilación just-in-time (JIT) y la capacidad de ejecutar código en GPUs y TPUs."
      ],
      "metadata": {
        "id": "gxri6KOIhMJP"
      }
    },
    {
      "cell_type": "markdown",
      "source": [
        "# Importar Jax"
      ],
      "metadata": {
        "id": "xw9uX6K0hDEH"
      }
    },
    {
      "cell_type": "code",
      "source": [
        "import jax\n",
        "import jax.numpy as jnp\n",
        "import tensorflow as tf\n",
        "import time\n",
        "import matplotlib.pyplot as plt\n",
        "import numpy as np\n",
        "from jax import random, grad, jit\n",
        "import torch\n",
        "import torch.nn as nn\n",
        "import torch.optim as optim\n",
        "import time\n",
        "import tensorflow as tf\n",
        "import tensorflow_datasets as tfds\n",
        "import seaborn as sns\n",
        "from sklearn.metrics import confusion_matrix"
      ],
      "metadata": {
        "id": "XKrZRIvmhE4e"
      },
      "execution_count": 64,
      "outputs": []
    },
    {
      "cell_type": "markdown",
      "source": [
        "# JAX permite calcular derivadas automáticamente usando la función grad\n"
      ],
      "metadata": {
        "id": "XllkDyiZhOem"
      }
    },
    {
      "cell_type": "code",
      "source": [
        "def f(x):\n",
        "    return x**2 + 3*x + 2\n",
        "\n",
        "df_dx = jax.grad(f)\n",
        "print(df_dx(2.0))"
      ],
      "metadata": {
        "id": "qbje3My_hRd3"
      },
      "execution_count": null,
      "outputs": []
    },
    {
      "cell_type": "markdown",
      "source": [
        "# Compilación just-in-time (JIT)\n",
        "JAX puede compilar funciones para ejecutarlas más rápido usando la función jit"
      ],
      "metadata": {
        "id": "vGVsVtdHhVa-"
      }
    },
    {
      "cell_type": "code",
      "source": [
        "@jax.jit\n",
        "def g(x):\n",
        "    return jnp.sin(x) + jnp.cos(x)\n",
        "\n",
        "print(g(1.0))"
      ],
      "metadata": {
        "colab": {
          "base_uri": "https://localhost:8080/"
        },
        "id": "eOQKPefJhXwO",
        "outputId": "532db3bd-8603-43b3-c0e2-9daf91f8ce63"
      },
      "execution_count": 4,
      "outputs": [
        {
          "output_type": "stream",
          "name": "stdout",
          "text": [
            "1.3817732\n"
          ]
        }
      ]
    },
    {
      "cell_type": "markdown",
      "source": [
        "# JAX puede ejecutar código en GPUs y TPUs automáticamente si están disponibles"
      ],
      "metadata": {
        "id": "hRBv7tUFhhWe"
      }
    },
    {
      "cell_type": "code",
      "source": [
        "x = jnp.array([1.0, 2.0, 3.0])\n",
        "print(x)"
      ],
      "metadata": {
        "id": "dx33ECWfhjI-"
      },
      "execution_count": null,
      "outputs": []
    },
    {
      "cell_type": "markdown",
      "source": [
        "# Comparación de JAX con TensorFlow y PyTorch\n",
        "Comparación de las características y el rendimiento de JAX con TensorFlow y PyTorch, incluyendo la diferenciación automática, la compilación JIT y la ejecución en hardware acelerado.\n",
        "\n",
        "| Característica       | JAX                                    | TensorFlow                                | PyTorch                                 |\n",
        "|----------------------|----------------------------------------|-------------------------------------------|-----------------------------------------|\n",
        "| **Paradigma**         | Funcional                              | Imperativo y estructurado (Eager Execution) | Imperativo (más intuitivo para objetos) |\n",
        "| **Uso Principal**     | Investigación y optimización avanzada  | Producción a gran escala, herramientas de despliegue | Investigación y prototipado rápido     |\n",
        "| **Soporte de Hardware**| Excelente para GPUs/TPUs               | Soporte sólido para GPUs/TPUs              | Soporte sólido para GPUs/TPUs           |\n",
        "| **Facilidad de Uso**  | Requiere más conocimiento técnico, adecuado para investigadores | Fácil de usar en producción, más estructurado | Fácil de aprender, ampliamente adoptado |\n",
        "| **Ecosistema**        | Enfocado en investigación, más limitado en producción | Amplio ecosistema para producción y despliegue | Enfocado en investigación, pero con buena integración para producción |\n",
        "| **Flexibilidad**      | Alta, permite transformaciones avanzadas y personalización | Menos flexible, más orientado a la rapidez de desarrollo | Moderadamente flexible, más control en el modelo |\n"
      ],
      "metadata": {
        "id": "koNgooVIh8b-"
      }
    },
    {
      "cell_type": "code",
      "source": [
        "# Definir el modelo\n",
        "def model(params, x):\n",
        "    w1, b1, w2, b2 = params\n",
        "    x = jnp.dot(x, w1) + b1\n",
        "    x = jnp.tanh(x)\n",
        "    x = jnp.dot(x, w2) + b2\n",
        "    return x\n",
        "\n",
        "# Inicializar parámetros\n",
        "key = random.PRNGKey(0)\n",
        "params = [\n",
        "    random.normal(key, (2, 5)),\n",
        "    jnp.zeros(5),\n",
        "    random.normal(key, (5, 1)),\n",
        "    jnp.zeros(1)\n",
        "]\n",
        "\n",
        "# Función de pérdida\n",
        "def loss_fn(params, x, y):\n",
        "    pred = model(params, x)\n",
        "    return jnp.mean((pred - y) ** 2)\n",
        "\n",
        "x = jnp.ones((10, 2))\n",
        "y = jnp.ones((10, 1))\n",
        "\n",
        "loss_grad = jit(grad(loss_fn))\n",
        "\n",
        "start = time.time()\n",
        "grads = loss_grad(params, x, y)\n",
        "end = time.time()\n",
        "\n",
        "tiempo_jax = (f\"Tiempo de ejecución en JAX: {end - start} segundos\")\n"
      ],
      "metadata": {
        "id": "2q-ZbTL4h-v-"
      },
      "execution_count": 13,
      "outputs": []
    },
    {
      "cell_type": "markdown",
      "source": [
        "# PyTorch"
      ],
      "metadata": {
        "id": "y_k2DKYq7cHD"
      }
    },
    {
      "cell_type": "code",
      "source": [
        "# Definir el modelo\n",
        "class MLP(nn.Module):\n",
        "    def __init__(self):\n",
        "        super(MLP, self).__init__()\n",
        "        self.layer1 = nn.Linear(2, 5)\n",
        "        self.layer2 = nn.Linear(5, 1)\n",
        "        self.tanh = nn.Tanh()\n",
        "\n",
        "    def forward(self, x):\n",
        "        x = self.tanh(self.layer1(x))\n",
        "        x = self.layer2(x)\n",
        "        return x\n",
        "\n",
        "# Crear el modelo\n",
        "model = MLP()\n",
        "\n",
        "# Función de pérdida\n",
        "criterion = nn.MSELoss()\n",
        "\n",
        "# Optimización\n",
        "optimizer = optim.SGD(model.parameters(), lr=0.01)\n",
        "\n",
        "# Crear datos de entrada aleatorios\n",
        "x = torch.ones((10, 2))\n",
        "y = torch.ones((10, 1))\n",
        "\n",
        "# Medir el tiempo de ejecución\n",
        "start = time.time()\n",
        "optimizer.zero_grad()\n",
        "output = model(x)\n",
        "loss = criterion(output, y)\n",
        "loss.backward()\n",
        "optimizer.step()\n",
        "end = time.time()\n",
        "\n",
        "tiempo_py = (f\"Tiempo de ejecución en PyTorch: {end - start} segundos\")\n"
      ],
      "metadata": {
        "id": "uCcx_Jqilk1V"
      },
      "execution_count": 14,
      "outputs": []
    },
    {
      "cell_type": "markdown",
      "source": [
        "# TensorFlow"
      ],
      "metadata": {
        "id": "tMbVwxx-x0sv"
      }
    },
    {
      "cell_type": "code",
      "source": [
        "# Definir el modelo\n",
        "class MLP(tf.keras.Model):\n",
        "    def __init__(self):\n",
        "        super(MLP, self).__init__()\n",
        "        self.dense1 = tf.keras.layers.Dense(5, activation='tanh')\n",
        "        self.dense2 = tf.keras.layers.Dense(1)\n",
        "\n",
        "    def call(self, x):\n",
        "        x = self.dense1(x)\n",
        "        x = self.dense2(x)\n",
        "        return x\n",
        "\n",
        "# Crear el modelo\n",
        "model = MLP()\n",
        "\n",
        "# Función de pérdida\n",
        "loss_fn = tf.keras.losses.MeanSquaredError()\n",
        "\n",
        "# Optimización\n",
        "optimizer = tf.keras.optimizers.SGD(learning_rate=0.01)\n",
        "\n",
        "# Crear datos de entrada aleatorios\n",
        "x = tf.ones((10, 2))\n",
        "y = tf.ones((10, 1))\n",
        "\n",
        "# Medir el tiempo de ejecución\n",
        "start = time.time()\n",
        "with tf.GradientTape() as tape:\n",
        "    output = model(x)\n",
        "    loss = loss_fn(y, output)\n",
        "gradients = tape.gradient(loss, model.trainable_variables)\n",
        "optimizer.apply_gradients(zip(gradients, model.trainable_variables))\n",
        "end = time.time()\n",
        "\n",
        "tiempo_tf = (f\"Tiempo de ejecución en TensorFlow: {end - start} segundos\")\n"
      ],
      "metadata": {
        "id": "SLlFANsHlvw2"
      },
      "execution_count": 15,
      "outputs": []
    },
    {
      "cell_type": "markdown",
      "source": [
        "# Comparación"
      ],
      "metadata": {
        "id": "g1myNbn_x24v"
      }
    },
    {
      "cell_type": "code",
      "source": [
        "print(tiempo_jax)\n",
        "print(tiempo_py)\n",
        "print(tiempo_tf)\n",
        "\n",
        "etiquetas = ['JAX', 'PyTorch', 'TensorFlow']\n",
        "valores = [tiempo_jax, tiempo_py, tiempo_tf]\n",
        "\n",
        "fig, ax = plt.subplots(figsize=(8, 6))\n",
        "\n",
        "bars = ax.bar(etiquetas, valores, color=['blue', 'green', 'red'], edgecolor='black', linewidth=1.2)\n",
        "\n",
        "ax.set_title('Comparación de Tiempos', fontsize=16, fontweight='bold')\n",
        "ax.set_xlabel('Framework', fontsize=14, fontweight='bold')\n",
        "ax.set_ylabel('Tiempo (segundos)', fontsize=14, fontweight='bold')\n",
        "\n",
        "valores = list(map(float, valores))\n",
        "\n",
        "ax.set_ylim(bottom=0, top=max(valores) * 1.2)\n",
        "\n",
        "for bar in bars:\n",
        "    height = bar.get_height()\n",
        "    ax.annotate(f'{height:.6f}',\n",
        "                xy=(bar.get_x() + bar.get_width() / 2, height),\n",
        "                xytext=(0, 3),\n",
        "                textcoords=\"offset points\",\n",
        "                ha='center', va='bottom', fontsize=12, color='black', fontweight='bold')\n",
        "\n",
        "plt.xticks(fontsize=12)\n",
        "plt.yticks(fontsize=12)\n",
        "plt.grid(axis='y', linestyle='--', alpha=0.7)\n",
        "\n",
        "plt.tight_layout()\n",
        "plt.show()"
      ],
      "metadata": {
        "colab": {
          "base_uri": "https://localhost:8080/",
          "height": 662
        },
        "id": "zPxw2O0Hl0mM",
        "outputId": "a0339fa0-808a-4ea2-ea55-054d39242d7e"
      },
      "execution_count": 69,
      "outputs": [
        {
          "output_type": "stream",
          "name": "stdout",
          "text": [
            "0.11281108856201172\n",
            "0.07346129417419434\n",
            "0.2536311149597168\n"
          ]
        },
        {
          "output_type": "display_data",
          "data": {
            "text/plain": [
              "<Figure size 800x600 with 1 Axes>"
            ],
            "image/png": "[encoded data removed]"
          },
          "metadata": {}
        }
      ]
    },
    {
      "cell_type": "markdown",
      "source": [
        "PyTorch fue el más rápido, seguido de JAX, mientras que TensorFlow tuvo el tiempo de ejecución más alto."
      ],
      "metadata": {
        "id": "xyQTIHGk8Htj"
      }
    },
    {
      "cell_type": "markdown",
      "source": [
        "# Ejemplo utilizando Jax"
      ],
      "metadata": {
        "id": "jd6nt7VlyLwv"
      }
    },
    {
      "cell_type": "markdown",
      "source": [
        "# Ecosistema al rededor de Jax\n",
        "\n",
        "\n",
        "\n",
        "*   Flax\n",
        "    * Características:\n",
        "      * Soporta la creación de modelos de redes neuronales de manera declarativa.\n",
        "      * Compatible con las funcionalidades de JAX como jit, grad, etc.\n",
        "      * Proporciona capas y mecanismos de entrenamiento como el optimizador optax.\n",
        "*   Optax\n",
        "    * Características:\n",
        "      * Optimizadores estándar como Adam, SGD, RMSProp, etc.\n",
        "      * Soporta programación de actualizaciones de parámetros en el entrenamiento.\n",
        "      * Integración con JAX para computación en GPU/TPU.\n",
        "*   Haiku\n",
        "    * Características:\n",
        "      * Facilita la creación de modelos con poca cantidad de código.\n",
        "      * Muy útil para construir redes neuronales profundas y complejas.\n",
        "      * Compatible con el ecosistema JAX y optimizada para su uso en entornos de alto rendimiento.\n",
        "*   Jraph\n",
        "    * Características:\n",
        "      * Implementa modelos de redes neuronales sobre grafos (GNN).\n",
        "      * Compatible con JAX, aprovechando su optimización para computación en GPU/TPU.\n",
        "      * Ofrece una API simple para definir capas de GNN.\n",
        "\n"
      ],
      "metadata": {
        "id": "3A23lPEj0Rhm"
      }
    },
    {
      "cell_type": "markdown",
      "source": [
        "# Cargamos el dataset\n",
        "Elegimos un dataset de mnist con imágenes del 0 al 9 para que nuestra red neuronal sea capaz de distinguirlos."
      ],
      "metadata": {
        "id": "Dkr6z2sTyRH2"
      }
    },
    {
      "cell_type": "code",
      "source": [
        "(train_data, test_data), info = tfds.load('mnist', split=['train', 'test'], with_info=True, as_supervised=True)\n",
        "\n",
        "# Normalizar las imágenes a valores entre 0 y 1 usando tf.numpy\n",
        "def normalize_img(image, label):\n",
        "    image = tf.cast(image, tf.float32) / 255.0\n",
        "    return image, label\n",
        "\n",
        "train_data = train_data.map(normalize_img).batch(32)\n",
        "test_data = test_data.map(normalize_img).batch(32)"
      ],
      "metadata": {
        "id": "OLCJWV0xyS2n"
      },
      "execution_count": 41,
      "outputs": []
    },
    {
      "cell_type": "markdown",
      "source": [
        "# Definición de modelo"
      ],
      "metadata": {
        "id": "-87AID7nygjX"
      }
    },
    {
      "cell_type": "code",
      "source": [
        "def model(params, x):\n",
        "    w1, b1, w2, b2 = params\n",
        "    x = jnp.dot(x, w1) + b1\n",
        "    x = jnp.tanh(x)\n",
        "    x = jnp.dot(x, w2) + b2\n",
        "    return x\n"
      ],
      "metadata": {
        "id": "YPSM5yyKyfsP"
      },
      "execution_count": 42,
      "outputs": []
    },
    {
      "cell_type": "markdown",
      "source": [
        "# Definición de función de pérdida"
      ],
      "metadata": {
        "id": "RldFhtzwyqyG"
      }
    },
    {
      "cell_type": "code",
      "source": [
        "def loss_fn(params, x, y):\n",
        "    logits = model(params, x)\n",
        "    return -jnp.mean(jnp.sum(y * jax.nn.log_softmax(logits), axis=1))"
      ],
      "metadata": {
        "id": "gqj3irttyt2G"
      },
      "execution_count": 43,
      "outputs": []
    },
    {
      "cell_type": "markdown",
      "source": [
        "Inicializamos los parámetros"
      ],
      "metadata": {
        "id": "hkt_mttByxRe"
      }
    },
    {
      "cell_type": "code",
      "source": [
        "# Inicialización de parámetros\n",
        "key = random.PRNGKey(0)\n",
        "params = [\n",
        "    random.normal(key, (28 * 28, 128)),\n",
        "    jnp.zeros(128),\n",
        "    random.normal(key, (128, 10)),\n",
        "    jnp.zeros(10)\n",
        "]"
      ],
      "metadata": {
        "id": "-inSDJgRy0mv"
      },
      "execution_count": 44,
      "outputs": []
    },
    {
      "cell_type": "markdown",
      "source": [
        "Calculo de gradientes"
      ],
      "metadata": {
        "id": "NLPcf2dCy2ge"
      }
    },
    {
      "cell_type": "code",
      "source": [
        "# Calcular gradientes\n",
        "loss_grad = jit(grad(loss_fn))"
      ],
      "metadata": {
        "id": "kwT0amEZy4O-"
      },
      "execution_count": 45,
      "outputs": []
    },
    {
      "cell_type": "markdown",
      "source": [
        "# Entrenamiento"
      ],
      "metadata": {
        "id": "QxQn-AEGy6mW"
      }
    },
    {
      "cell_type": "code",
      "source": [
        "epochs = 50\n",
        "learning_rate = 0.001\n",
        "\n",
        "for epoch in range(epochs):\n",
        "    epoch_loss = 0\n",
        "    for batch, (x_batch, y_batch) in enumerate(train_data):\n",
        "        # Convertir imágenes a jax.numpy\n",
        "        x_batch = jnp.array(x_batch, dtype=jnp.float32)\n",
        "        # Aplanar las imágenes\n",
        "        x_batch = x_batch.reshape(x_batch.shape[0], -1)\n",
        "\n",
        "        # Convertir las etiquetas a jax.numpy\n",
        "        y_batch = jnp.array(y_batch, dtype=jnp.int32)\n",
        "        y_batch_onehot = jax.nn.one_hot(y_batch, 10)\n",
        "\n",
        "        grads = loss_grad(params, x_batch, y_batch_onehot)\n",
        "        params = [(w - learning_rate * grad_w) for w, grad_w in zip(params, grads)]\n",
        "\n",
        "        if batch % 100 == 0:\n",
        "            current_loss = loss_fn(params, x_batch, y_batch_onehot)\n",
        "            epoch_loss += current_loss\n",
        "\n",
        "    print(f\"Epoch {epoch} finished, Avg Loss: {epoch_loss / batch:.4f}\")"
      ],
      "metadata": {
        "colab": {
          "base_uri": "https://localhost:8080/"
        },
        "id": "G_kEvRP7y9Cf",
        "outputId": "f4750a74-bd05-4c83-e0c0-fba254bb8c10"
      },
      "execution_count": 55,
      "outputs": [
        {
          "output_type": "stream",
          "name": "stdout",
          "text": [
            "Epoch 0 finished, Avg Loss: 0.0146\n",
            "Epoch 1 finished, Avg Loss: 0.0143\n",
            "Epoch 2 finished, Avg Loss: 0.0140\n",
            "Epoch 3 finished, Avg Loss: 0.0138\n",
            "Epoch 4 finished, Avg Loss: 0.0135\n",
            "Epoch 5 finished, Avg Loss: 0.0133\n",
            "Epoch 6 finished, Avg Loss: 0.0130\n",
            "Epoch 7 finished, Avg Loss: 0.0128\n",
            "Epoch 8 finished, Avg Loss: 0.0126\n",
            "Epoch 9 finished, Avg Loss: 0.0124\n",
            "Epoch 10 finished, Avg Loss: 0.0122\n",
            "Epoch 11 finished, Avg Loss: 0.0120\n",
            "Epoch 12 finished, Avg Loss: 0.0118\n",
            "Epoch 13 finished, Avg Loss: 0.0117\n",
            "Epoch 14 finished, Avg Loss: 0.0115\n",
            "Epoch 15 finished, Avg Loss: 0.0114\n",
            "Epoch 16 finished, Avg Loss: 0.0112\n",
            "Epoch 17 finished, Avg Loss: 0.0111\n",
            "Epoch 18 finished, Avg Loss: 0.0109\n",
            "Epoch 19 finished, Avg Loss: 0.0108\n",
            "Epoch 20 finished, Avg Loss: 0.0106\n",
            "Epoch 21 finished, Avg Loss: 0.0105\n",
            "Epoch 22 finished, Avg Loss: 0.0104\n",
            "Epoch 23 finished, Avg Loss: 0.0102\n",
            "Epoch 24 finished, Avg Loss: 0.0101\n",
            "Epoch 25 finished, Avg Loss: 0.0100\n",
            "Epoch 26 finished, Avg Loss: 0.0099\n",
            "Epoch 27 finished, Avg Loss: 0.0098\n",
            "Epoch 28 finished, Avg Loss: 0.0097\n",
            "Epoch 29 finished, Avg Loss: 0.0096\n",
            "Epoch 30 finished, Avg Loss: 0.0095\n",
            "Epoch 31 finished, Avg Loss: 0.0094\n",
            "Epoch 32 finished, Avg Loss: 0.0093\n",
            "Epoch 33 finished, Avg Loss: 0.0092\n",
            "Epoch 34 finished, Avg Loss: 0.0091\n",
            "Epoch 35 finished, Avg Loss: 0.0090\n",
            "Epoch 36 finished, Avg Loss: 0.0089\n",
            "Epoch 37 finished, Avg Loss: 0.0088\n",
            "Epoch 38 finished, Avg Loss: 0.0087\n",
            "Epoch 39 finished, Avg Loss: 0.0087\n",
            "Epoch 40 finished, Avg Loss: 0.0086\n",
            "Epoch 41 finished, Avg Loss: 0.0085\n",
            "Epoch 42 finished, Avg Loss: 0.0084\n",
            "Epoch 43 finished, Avg Loss: 0.0084\n",
            "Epoch 44 finished, Avg Loss: 0.0083\n",
            "Epoch 45 finished, Avg Loss: 0.0082\n",
            "Epoch 46 finished, Avg Loss: 0.0081\n",
            "Epoch 47 finished, Avg Loss: 0.0081\n",
            "Epoch 48 finished, Avg Loss: 0.0080\n",
            "Epoch 49 finished, Avg Loss: 0.0079\n"
          ]
        }
      ]
    },
    {
      "cell_type": "markdown",
      "source": [
        "# Prueba del modelo"
      ],
      "metadata": {
        "id": "J_df7LnLy9z2"
      }
    },
    {
      "cell_type": "code",
      "source": [
        "correct = 0\n",
        "total = 0\n",
        "for x_batch, y_batch in test_data:\n",
        "\n",
        "    # Convertir x_batch a jax.numpy\n",
        "    x_batch = jnp.array(x_batch, dtype=jnp.float32)\n",
        "\n",
        "    # Aplanar las imágenes\n",
        "    x_batch = x_batch.reshape(x_batch.shape[0], -1)\n",
        "\n",
        "    # Convertir las etiquetas a jax.numpy\n",
        "    y_batch = jnp.array(y_batch, dtype=jnp.int32)\n",
        "    y_batch_onehot = jax.nn.one_hot(y_batch, 10)\n",
        "\n",
        "    logits = model(params, x_batch)\n",
        "    predictions = jnp.argmax(logits, axis=1)\n",
        "\n",
        "    correct += jnp.sum(predictions == y_batch)\n",
        "    total += len(y_batch)\n",
        "\n",
        "accuracy = correct / total\n",
        "print(f\"Precisión en el conjunto de test: {accuracy:.4f}\")"
      ],
      "metadata": {
        "colab": {
          "base_uri": "https://localhost:8080/"
        },
        "id": "1a9yxAAvzBWW",
        "outputId": "eb48f672-08fa-4b46-e5fd-e3aad1efe42c"
      },
      "execution_count": 57,
      "outputs": [
        {
          "output_type": "stream",
          "name": "stdout",
          "text": [
            "Precisión en el conjunto de test: 0.8477\n"
          ]
        }
      ]
    },
    {
      "cell_type": "code",
      "source": [
        "y_true = []\n",
        "y_pred = []\n",
        "\n",
        "for x_batch, y_batch in test_data:\n",
        "\n",
        "    x_batch = x_batch.reshape(x_batch.shape[0], -1)\n",
        "    x_batch = jnp.array(x_batch, dtype=jnp.float32)\n",
        "    y_batch = jnp.array(y_batch, dtype=jnp.int32)\n",
        "    y_batch_onehot = jax.nn.one_hot(y_batch, 10)\n",
        "\n",
        "    logits = model(params, x_batch)\n",
        "    predictions = jnp.argmax(logits, axis=1)\n",
        "\n",
        "    y_true.extend(y_batch.tolist())\n",
        "    y_pred.extend(predictions.tolist())\n",
        "\n",
        "y_true = np.array(y_true)\n",
        "y_pred = np.array(y_pred)\n",
        "\n",
        "# Generar la matriz de confusión\n",
        "cm = confusion_matrix(y_true, y_pred)\n",
        "\n",
        "plt.figure(figsize=(8, 6))\n",
        "sns.heatmap(cm, annot=True, fmt='d', cmap='Blues', xticklabels=range(10), yticklabels=range(10))\n",
        "plt.title('Matriz de Confusión')\n",
        "plt.xlabel('Predicciones')\n",
        "plt.ylabel('Etiquetas reales')\n",
        "plt.show()\n",
        "\n",
        "plt.imshow(x_batch[2].reshape(28, 28), cmap='gray')\n",
        "plt.title(f'Predicción: {y_pred[2]}, Real: {y_true[2]}')\n",
        "plt.show()\n"
      ],
      "metadata": {
        "colab": {
          "base_uri": "https://localhost:8080/",
          "height": 999
        },
        "id": "pEBP10wT1nVV",
        "outputId": "d4351208-1b6a-4974-8ebb-775f71d2acd7"
      },
      "execution_count": 68,
      "outputs": [
        {
          "output_type": "display_data",
          "data": {
            "text/plain": [
              "<Figure size 800x600 with 2 Axes>"
            ],
            "image/png": "[encoded data removed]"
          },
          "metadata": {}
        },
        {
          "output_type": "display_data",
          "data": {
            "text/plain": [
              "<Figure size 640x480 with 1 Axes>"
            ],
            "image/png": "[encoded data removed]"
          },
          "metadata": {}
        }
      ]
    },
    {
      "cell_type": "markdown",
      "source": [
        "# Conclusión\n",
        "JAX es ideal para investigación avanzada y optimización debido a su flexibilidad y eficiencia en el cálculo de gradientes y paralelización. A diferencia de TensorFlow y PyTorch, se destaca en personalización y control de bajo nivel, pero carece del ecosistema robusto para producción que ofrecen las otras dos bibliotecas."
      ],
      "metadata": {
        "id": "Vaak2k4617xt"
      }
    }
  ]
}